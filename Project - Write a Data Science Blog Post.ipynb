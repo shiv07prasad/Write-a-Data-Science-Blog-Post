{
 "cells": [
  {
   "cell_type": "markdown",
   "metadata": {},
   "source": [
    "# Stack Overflow Developer Survey 2017"
   ]
  },
  {
   "cell_type": "markdown",
   "metadata": {},
   "source": [
    "# Asian vs North American Web Developers"
   ]
  },
  {
   "cell_type": "markdown",
   "metadata": {},
   "source": [
    "### Business Understanding :"
   ]
  },
  {
   "cell_type": "markdown",
   "metadata": {},
   "source": [
    "In this project I have used the dataset from [Stack Overflow survey data 2017](https://www.kaggle.com/stackoverflow/so-survey-2017/data).\n",
    "\n",
    "The goal of this project is to find out:\n",
    "* How are Job Satisfaction and Career Satisfaction are correlated ?\n",
    "* Which Location has the highest Job satisfaction and Career Satisfaction ?\n",
    "* At what time do Web developers want to start working at their job ?\n",
    "* Who spends highest time searching for a job throught a week ?\n",
    "* Who has coded long time with coding as part of their job ?"
   ]
  },
  {
   "cell_type": "markdown",
   "metadata": {},
   "source": [
    "### Data Understanding"
   ]
  },
  {
   "cell_type": "markdown",
   "metadata": {},
   "source": [
    "* Let's import necessary libraries.\n",
    "* We asses the data and obtain the needful information."
   ]
  },
  {
   "cell_type": "code",
   "execution_count": 1,
   "metadata": {},
   "outputs": [],
   "source": [
    "import numpy as np\n",
    "import pandas as pd\n",
    "import matplotlib.pyplot as plt\n",
    "import seaborn as sns\n",
    "\n",
    "%matplotlib inline"
   ]
  },
  {
   "cell_type": "code",
   "execution_count": 2,
   "metadata": {},
   "outputs": [
    {
     "data": {
      "text/html": [
       "<div>\n",
       "<style scoped>\n",
       "    .dataframe tbody tr th:only-of-type {\n",
       "        vertical-align: middle;\n",
       "    }\n",
       "\n",
       "    .dataframe tbody tr th {\n",
       "        vertical-align: top;\n",
       "    }\n",
       "\n",
       "    .dataframe thead th {\n",
       "        text-align: right;\n",
       "    }\n",
       "</style>\n",
       "<table border=\"1\" class=\"dataframe\">\n",
       "  <thead>\n",
       "    <tr style=\"text-align: right;\">\n",
       "      <th></th>\n",
       "      <th>Respondent</th>\n",
       "      <th>Professional</th>\n",
       "      <th>ProgramHobby</th>\n",
       "      <th>Country</th>\n",
       "      <th>University</th>\n",
       "      <th>EmploymentStatus</th>\n",
       "      <th>FormalEducation</th>\n",
       "      <th>MajorUndergrad</th>\n",
       "      <th>HomeRemote</th>\n",
       "      <th>CompanySize</th>\n",
       "      <th>...</th>\n",
       "      <th>StackOverflowMakeMoney</th>\n",
       "      <th>Gender</th>\n",
       "      <th>HighestEducationParents</th>\n",
       "      <th>Race</th>\n",
       "      <th>SurveyLong</th>\n",
       "      <th>QuestionsInteresting</th>\n",
       "      <th>QuestionsConfusing</th>\n",
       "      <th>InterestedAnswers</th>\n",
       "      <th>Salary</th>\n",
       "      <th>ExpectedSalary</th>\n",
       "    </tr>\n",
       "  </thead>\n",
       "  <tbody>\n",
       "    <tr>\n",
       "      <th>0</th>\n",
       "      <td>1</td>\n",
       "      <td>Student</td>\n",
       "      <td>Yes, both</td>\n",
       "      <td>United States</td>\n",
       "      <td>No</td>\n",
       "      <td>Not employed, and not looking for work</td>\n",
       "      <td>Secondary school</td>\n",
       "      <td>NaN</td>\n",
       "      <td>NaN</td>\n",
       "      <td>NaN</td>\n",
       "      <td>...</td>\n",
       "      <td>Strongly disagree</td>\n",
       "      <td>Male</td>\n",
       "      <td>High school</td>\n",
       "      <td>White or of European descent</td>\n",
       "      <td>Strongly disagree</td>\n",
       "      <td>Strongly agree</td>\n",
       "      <td>Disagree</td>\n",
       "      <td>Strongly agree</td>\n",
       "      <td>NaN</td>\n",
       "      <td>NaN</td>\n",
       "    </tr>\n",
       "    <tr>\n",
       "      <th>1</th>\n",
       "      <td>2</td>\n",
       "      <td>Student</td>\n",
       "      <td>Yes, both</td>\n",
       "      <td>United Kingdom</td>\n",
       "      <td>Yes, full-time</td>\n",
       "      <td>Employed part-time</td>\n",
       "      <td>Some college/university study without earning ...</td>\n",
       "      <td>Computer science or software engineering</td>\n",
       "      <td>More than half, but not all, the time</td>\n",
       "      <td>20 to 99 employees</td>\n",
       "      <td>...</td>\n",
       "      <td>Strongly disagree</td>\n",
       "      <td>Male</td>\n",
       "      <td>A master's degree</td>\n",
       "      <td>White or of European descent</td>\n",
       "      <td>Somewhat agree</td>\n",
       "      <td>Somewhat agree</td>\n",
       "      <td>Disagree</td>\n",
       "      <td>Strongly agree</td>\n",
       "      <td>NaN</td>\n",
       "      <td>37500.0</td>\n",
       "    </tr>\n",
       "    <tr>\n",
       "      <th>2</th>\n",
       "      <td>3</td>\n",
       "      <td>Professional developer</td>\n",
       "      <td>Yes, both</td>\n",
       "      <td>United Kingdom</td>\n",
       "      <td>No</td>\n",
       "      <td>Employed full-time</td>\n",
       "      <td>Bachelor's degree</td>\n",
       "      <td>Computer science or software engineering</td>\n",
       "      <td>Less than half the time, but at least one day ...</td>\n",
       "      <td>10,000 or more employees</td>\n",
       "      <td>...</td>\n",
       "      <td>Disagree</td>\n",
       "      <td>Male</td>\n",
       "      <td>A professional degree</td>\n",
       "      <td>White or of European descent</td>\n",
       "      <td>Somewhat agree</td>\n",
       "      <td>Agree</td>\n",
       "      <td>Disagree</td>\n",
       "      <td>Agree</td>\n",
       "      <td>113750.0</td>\n",
       "      <td>NaN</td>\n",
       "    </tr>\n",
       "    <tr>\n",
       "      <th>3</th>\n",
       "      <td>4</td>\n",
       "      <td>Professional non-developer who sometimes write...</td>\n",
       "      <td>Yes, both</td>\n",
       "      <td>United States</td>\n",
       "      <td>No</td>\n",
       "      <td>Employed full-time</td>\n",
       "      <td>Doctoral degree</td>\n",
       "      <td>A non-computer-focused engineering discipline</td>\n",
       "      <td>Less than half the time, but at least one day ...</td>\n",
       "      <td>10,000 or more employees</td>\n",
       "      <td>...</td>\n",
       "      <td>Disagree</td>\n",
       "      <td>Male</td>\n",
       "      <td>A doctoral degree</td>\n",
       "      <td>White or of European descent</td>\n",
       "      <td>Agree</td>\n",
       "      <td>Agree</td>\n",
       "      <td>Somewhat agree</td>\n",
       "      <td>Strongly agree</td>\n",
       "      <td>NaN</td>\n",
       "      <td>NaN</td>\n",
       "    </tr>\n",
       "    <tr>\n",
       "      <th>4</th>\n",
       "      <td>5</td>\n",
       "      <td>Professional developer</td>\n",
       "      <td>Yes, I program as a hobby</td>\n",
       "      <td>Switzerland</td>\n",
       "      <td>No</td>\n",
       "      <td>Employed full-time</td>\n",
       "      <td>Master's degree</td>\n",
       "      <td>Computer science or software engineering</td>\n",
       "      <td>Never</td>\n",
       "      <td>10 to 19 employees</td>\n",
       "      <td>...</td>\n",
       "      <td>NaN</td>\n",
       "      <td>NaN</td>\n",
       "      <td>NaN</td>\n",
       "      <td>NaN</td>\n",
       "      <td>NaN</td>\n",
       "      <td>NaN</td>\n",
       "      <td>NaN</td>\n",
       "      <td>NaN</td>\n",
       "      <td>NaN</td>\n",
       "      <td>NaN</td>\n",
       "    </tr>\n",
       "  </tbody>\n",
       "</table>\n",
       "<p>5 rows × 154 columns</p>\n",
       "</div>"
      ],
      "text/plain": [
       "   Respondent                                       Professional  \\\n",
       "0           1                                            Student   \n",
       "1           2                                            Student   \n",
       "2           3                             Professional developer   \n",
       "3           4  Professional non-developer who sometimes write...   \n",
       "4           5                             Professional developer   \n",
       "\n",
       "                ProgramHobby         Country      University  \\\n",
       "0                  Yes, both   United States              No   \n",
       "1                  Yes, both  United Kingdom  Yes, full-time   \n",
       "2                  Yes, both  United Kingdom              No   \n",
       "3                  Yes, both   United States              No   \n",
       "4  Yes, I program as a hobby     Switzerland              No   \n",
       "\n",
       "                         EmploymentStatus  \\\n",
       "0  Not employed, and not looking for work   \n",
       "1                      Employed part-time   \n",
       "2                      Employed full-time   \n",
       "3                      Employed full-time   \n",
       "4                      Employed full-time   \n",
       "\n",
       "                                     FormalEducation  \\\n",
       "0                                   Secondary school   \n",
       "1  Some college/university study without earning ...   \n",
       "2                                  Bachelor's degree   \n",
       "3                                    Doctoral degree   \n",
       "4                                    Master's degree   \n",
       "\n",
       "                                  MajorUndergrad  \\\n",
       "0                                            NaN   \n",
       "1       Computer science or software engineering   \n",
       "2       Computer science or software engineering   \n",
       "3  A non-computer-focused engineering discipline   \n",
       "4       Computer science or software engineering   \n",
       "\n",
       "                                          HomeRemote  \\\n",
       "0                                                NaN   \n",
       "1              More than half, but not all, the time   \n",
       "2  Less than half the time, but at least one day ...   \n",
       "3  Less than half the time, but at least one day ...   \n",
       "4                                              Never   \n",
       "\n",
       "                CompanySize  ... StackOverflowMakeMoney Gender  \\\n",
       "0                       NaN  ...      Strongly disagree   Male   \n",
       "1        20 to 99 employees  ...      Strongly disagree   Male   \n",
       "2  10,000 or more employees  ...               Disagree   Male   \n",
       "3  10,000 or more employees  ...               Disagree   Male   \n",
       "4        10 to 19 employees  ...                    NaN    NaN   \n",
       "\n",
       "  HighestEducationParents                          Race         SurveyLong  \\\n",
       "0             High school  White or of European descent  Strongly disagree   \n",
       "1       A master's degree  White or of European descent     Somewhat agree   \n",
       "2   A professional degree  White or of European descent     Somewhat agree   \n",
       "3       A doctoral degree  White or of European descent              Agree   \n",
       "4                     NaN                           NaN                NaN   \n",
       "\n",
       "  QuestionsInteresting QuestionsConfusing InterestedAnswers    Salary  \\\n",
       "0       Strongly agree           Disagree    Strongly agree       NaN   \n",
       "1       Somewhat agree           Disagree    Strongly agree       NaN   \n",
       "2                Agree           Disagree             Agree  113750.0   \n",
       "3                Agree     Somewhat agree    Strongly agree       NaN   \n",
       "4                  NaN                NaN               NaN       NaN   \n",
       "\n",
       "   ExpectedSalary  \n",
       "0             NaN  \n",
       "1         37500.0  \n",
       "2             NaN  \n",
       "3             NaN  \n",
       "4             NaN  \n",
       "\n",
       "[5 rows x 154 columns]"
      ]
     },
     "execution_count": 2,
     "metadata": {},
     "output_type": "execute_result"
    }
   ],
   "source": [
    "#'df' is a dataframe\n",
    "\n",
    "df = pd.read_csv(\"survey_results_public.csv\")\n",
    "df.head()"
   ]
  },
  {
   "cell_type": "code",
   "execution_count": 3,
   "metadata": {},
   "outputs": [
    {
     "name": "stdout",
     "output_type": "stream",
     "text": [
      "<class 'pandas.core.frame.DataFrame'>\n",
      "RangeIndex: 51392 entries, 0 to 51391\n",
      "Columns: 154 entries, Respondent to ExpectedSalary\n",
      "dtypes: float64(6), int64(1), object(147)\n",
      "memory usage: 31.6+ MB\n"
     ]
    }
   ],
   "source": [
    "df.info()"
   ]
  },
  {
   "cell_type": "code",
   "execution_count": 4,
   "metadata": {},
   "outputs": [
    {
     "data": {
      "text/html": [
       "<div>\n",
       "<style scoped>\n",
       "    .dataframe tbody tr th:only-of-type {\n",
       "        vertical-align: middle;\n",
       "    }\n",
       "\n",
       "    .dataframe tbody tr th {\n",
       "        vertical-align: top;\n",
       "    }\n",
       "\n",
       "    .dataframe thead th {\n",
       "        text-align: right;\n",
       "    }\n",
       "</style>\n",
       "<table border=\"1\" class=\"dataframe\">\n",
       "  <thead>\n",
       "    <tr style=\"text-align: right;\">\n",
       "      <th></th>\n",
       "      <th>Respondent</th>\n",
       "      <th>CareerSatisfaction</th>\n",
       "      <th>JobSatisfaction</th>\n",
       "      <th>HoursPerWeek</th>\n",
       "      <th>StackOverflowSatisfaction</th>\n",
       "      <th>Salary</th>\n",
       "      <th>ExpectedSalary</th>\n",
       "    </tr>\n",
       "  </thead>\n",
       "  <tbody>\n",
       "    <tr>\n",
       "      <th>count</th>\n",
       "      <td>51392.000000</td>\n",
       "      <td>42695.000000</td>\n",
       "      <td>40376.000000</td>\n",
       "      <td>20600.000000</td>\n",
       "      <td>36592.000000</td>\n",
       "      <td>12891.000000</td>\n",
       "      <td>2566.000000</td>\n",
       "    </tr>\n",
       "    <tr>\n",
       "      <th>mean</th>\n",
       "      <td>25696.500000</td>\n",
       "      <td>7.300574</td>\n",
       "      <td>6.957078</td>\n",
       "      <td>3.952282</td>\n",
       "      <td>8.429875</td>\n",
       "      <td>56298.480641</td>\n",
       "      <td>33142.220468</td>\n",
       "    </tr>\n",
       "    <tr>\n",
       "      <th>std</th>\n",
       "      <td>14835.736854</td>\n",
       "      <td>1.955444</td>\n",
       "      <td>2.167652</td>\n",
       "      <td>7.564722</td>\n",
       "      <td>1.390635</td>\n",
       "      <td>39880.905277</td>\n",
       "      <td>30162.988829</td>\n",
       "    </tr>\n",
       "    <tr>\n",
       "      <th>min</th>\n",
       "      <td>1.000000</td>\n",
       "      <td>0.000000</td>\n",
       "      <td>0.000000</td>\n",
       "      <td>0.000000</td>\n",
       "      <td>0.000000</td>\n",
       "      <td>0.000000</td>\n",
       "      <td>0.000000</td>\n",
       "    </tr>\n",
       "    <tr>\n",
       "      <th>25%</th>\n",
       "      <td>12848.750000</td>\n",
       "      <td>6.000000</td>\n",
       "      <td>6.000000</td>\n",
       "      <td>1.000000</td>\n",
       "      <td>8.000000</td>\n",
       "      <td>26440.371839</td>\n",
       "      <td>4490.492484</td>\n",
       "    </tr>\n",
       "    <tr>\n",
       "      <th>50%</th>\n",
       "      <td>25696.500000</td>\n",
       "      <td>8.000000</td>\n",
       "      <td>7.000000</td>\n",
       "      <td>1.000000</td>\n",
       "      <td>9.000000</td>\n",
       "      <td>50000.000000</td>\n",
       "      <td>29364.263691</td>\n",
       "    </tr>\n",
       "    <tr>\n",
       "      <th>75%</th>\n",
       "      <td>38544.250000</td>\n",
       "      <td>9.000000</td>\n",
       "      <td>8.000000</td>\n",
       "      <td>4.000000</td>\n",
       "      <td>10.000000</td>\n",
       "      <td>80000.000000</td>\n",
       "      <td>50403.225806</td>\n",
       "    </tr>\n",
       "    <tr>\n",
       "      <th>max</th>\n",
       "      <td>51392.000000</td>\n",
       "      <td>10.000000</td>\n",
       "      <td>10.000000</td>\n",
       "      <td>40.000000</td>\n",
       "      <td>10.000000</td>\n",
       "      <td>197000.000000</td>\n",
       "      <td>187500.000000</td>\n",
       "    </tr>\n",
       "  </tbody>\n",
       "</table>\n",
       "</div>"
      ],
      "text/plain": [
       "         Respondent  CareerSatisfaction  JobSatisfaction  HoursPerWeek  \\\n",
       "count  51392.000000        42695.000000     40376.000000  20600.000000   \n",
       "mean   25696.500000            7.300574         6.957078      3.952282   \n",
       "std    14835.736854            1.955444         2.167652      7.564722   \n",
       "min        1.000000            0.000000         0.000000      0.000000   \n",
       "25%    12848.750000            6.000000         6.000000      1.000000   \n",
       "50%    25696.500000            8.000000         7.000000      1.000000   \n",
       "75%    38544.250000            9.000000         8.000000      4.000000   \n",
       "max    51392.000000           10.000000        10.000000     40.000000   \n",
       "\n",
       "       StackOverflowSatisfaction         Salary  ExpectedSalary  \n",
       "count               36592.000000   12891.000000     2566.000000  \n",
       "mean                    8.429875   56298.480641    33142.220468  \n",
       "std                     1.390635   39880.905277    30162.988829  \n",
       "min                     0.000000       0.000000        0.000000  \n",
       "25%                     8.000000   26440.371839     4490.492484  \n",
       "50%                     9.000000   50000.000000    29364.263691  \n",
       "75%                    10.000000   80000.000000    50403.225806  \n",
       "max                    10.000000  197000.000000   187500.000000  "
      ]
     },
     "execution_count": 4,
     "metadata": {},
     "output_type": "execute_result"
    }
   ],
   "source": [
    "df.describe()"
   ]
  },
  {
   "cell_type": "markdown",
   "metadata": {},
   "source": [
    "#### _Insights_"
   ]
  },
  {
   "cell_type": "markdown",
   "metadata": {},
   "source": [
    "* Select the features that are useful\n",
    "* Remove data from students, part-time etc.\n",
    "* Create a column to store information based on Respondent location.\n",
    "* YearsCodedJob must be mapped.\n",
    "* Treat the missing value."
   ]
  },
  {
   "cell_type": "markdown",
   "metadata": {},
   "source": [
    "##### The required features are selected"
   ]
  },
  {
   "cell_type": "code",
   "execution_count": 5,
   "metadata": {},
   "outputs": [],
   "source": [
    "columns = ['Respondent','Country','WebDeveloperType', 'YearsCodedJob', 'HoursPerWeek', 'JobSatisfaction' ,'CareerSatisfaction', 'Salary', 'WorkStart']\n",
    "# We are making sure that people who are professional developer and employed full-time are included in the data.\n",
    "data = df[df['Professional']=='Professional developer']\n",
    "data = data[data['EmploymentStatus']=='Employed full-time']\n",
    "data = data[data['WorkStart'].notnull()]\n",
    "data = data[data['CareerSatisfaction'].notnull()]\n",
    "data = data[columns]"
   ]
  },
  {
   "cell_type": "code",
   "execution_count": 6,
   "metadata": {},
   "outputs": [
    {
     "data": {
      "text/html": [
       "<div>\n",
       "<style scoped>\n",
       "    .dataframe tbody tr th:only-of-type {\n",
       "        vertical-align: middle;\n",
       "    }\n",
       "\n",
       "    .dataframe tbody tr th {\n",
       "        vertical-align: top;\n",
       "    }\n",
       "\n",
       "    .dataframe thead th {\n",
       "        text-align: right;\n",
       "    }\n",
       "</style>\n",
       "<table border=\"1\" class=\"dataframe\">\n",
       "  <thead>\n",
       "    <tr style=\"text-align: right;\">\n",
       "      <th></th>\n",
       "      <th>Respondent</th>\n",
       "      <th>Country</th>\n",
       "      <th>WebDeveloperType</th>\n",
       "      <th>YearsCodedJob</th>\n",
       "      <th>HoursPerWeek</th>\n",
       "      <th>JobSatisfaction</th>\n",
       "      <th>CareerSatisfaction</th>\n",
       "      <th>Salary</th>\n",
       "      <th>WorkStart</th>\n",
       "    </tr>\n",
       "  </thead>\n",
       "  <tbody>\n",
       "    <tr>\n",
       "      <th>2</th>\n",
       "      <td>3</td>\n",
       "      <td>United Kingdom</td>\n",
       "      <td>NaN</td>\n",
       "      <td>20 or more years</td>\n",
       "      <td>NaN</td>\n",
       "      <td>9.0</td>\n",
       "      <td>8.0</td>\n",
       "      <td>113750.0</td>\n",
       "      <td>9:00 AM</td>\n",
       "    </tr>\n",
       "    <tr>\n",
       "      <th>7</th>\n",
       "      <td>8</td>\n",
       "      <td>Poland</td>\n",
       "      <td>Full stack Web developer</td>\n",
       "      <td>7 to 8 years</td>\n",
       "      <td>1.0</td>\n",
       "      <td>7.0</td>\n",
       "      <td>7.0</td>\n",
       "      <td>NaN</td>\n",
       "      <td>Noon</td>\n",
       "    </tr>\n",
       "    <tr>\n",
       "      <th>8</th>\n",
       "      <td>9</td>\n",
       "      <td>Colombia</td>\n",
       "      <td>NaN</td>\n",
       "      <td>7 to 8 years</td>\n",
       "      <td>2.0</td>\n",
       "      <td>6.0</td>\n",
       "      <td>6.0</td>\n",
       "      <td>NaN</td>\n",
       "      <td>9:00 AM</td>\n",
       "    </tr>\n",
       "    <tr>\n",
       "      <th>13</th>\n",
       "      <td>14</td>\n",
       "      <td>Germany</td>\n",
       "      <td>Full stack Web developer</td>\n",
       "      <td>15 to 16 years</td>\n",
       "      <td>3.0</td>\n",
       "      <td>6.0</td>\n",
       "      <td>8.0</td>\n",
       "      <td>NaN</td>\n",
       "      <td>10:00 AM</td>\n",
       "    </tr>\n",
       "    <tr>\n",
       "      <th>14</th>\n",
       "      <td>15</td>\n",
       "      <td>United Kingdom</td>\n",
       "      <td>NaN</td>\n",
       "      <td>20 or more years</td>\n",
       "      <td>NaN</td>\n",
       "      <td>8.0</td>\n",
       "      <td>8.0</td>\n",
       "      <td>100000.0</td>\n",
       "      <td>9:00 AM</td>\n",
       "    </tr>\n",
       "  </tbody>\n",
       "</table>\n",
       "</div>"
      ],
      "text/plain": [
       "    Respondent         Country          WebDeveloperType     YearsCodedJob  \\\n",
       "2            3  United Kingdom                       NaN  20 or more years   \n",
       "7            8          Poland  Full stack Web developer      7 to 8 years   \n",
       "8            9        Colombia                       NaN      7 to 8 years   \n",
       "13          14         Germany  Full stack Web developer    15 to 16 years   \n",
       "14          15  United Kingdom                       NaN  20 or more years   \n",
       "\n",
       "    HoursPerWeek  JobSatisfaction  CareerSatisfaction    Salary WorkStart  \n",
       "2            NaN              9.0                 8.0  113750.0   9:00 AM  \n",
       "7            1.0              7.0                 7.0       NaN      Noon  \n",
       "8            2.0              6.0                 6.0       NaN   9:00 AM  \n",
       "13           3.0              6.0                 8.0       NaN  10:00 AM  \n",
       "14           NaN              8.0                 8.0  100000.0   9:00 AM  "
      ]
     },
     "execution_count": 6,
     "metadata": {},
     "output_type": "execute_result"
    }
   ],
   "source": [
    "data.head()"
   ]
  },
  {
   "cell_type": "code",
   "execution_count": 7,
   "metadata": {},
   "outputs": [
    {
     "data": {
      "text/html": [
       "<div>\n",
       "<style scoped>\n",
       "    .dataframe tbody tr th:only-of-type {\n",
       "        vertical-align: middle;\n",
       "    }\n",
       "\n",
       "    .dataframe tbody tr th {\n",
       "        vertical-align: top;\n",
       "    }\n",
       "\n",
       "    .dataframe thead th {\n",
       "        text-align: right;\n",
       "    }\n",
       "</style>\n",
       "<table border=\"1\" class=\"dataframe\">\n",
       "  <thead>\n",
       "    <tr style=\"text-align: right;\">\n",
       "      <th></th>\n",
       "      <th>Respondent</th>\n",
       "      <th>Country</th>\n",
       "      <th>WebDeveloperType</th>\n",
       "      <th>YearsCodedJob</th>\n",
       "      <th>HoursPerWeek</th>\n",
       "      <th>JobSatisfaction</th>\n",
       "      <th>CareerSatisfaction</th>\n",
       "      <th>Salary</th>\n",
       "      <th>WorkStart</th>\n",
       "      <th>Location</th>\n",
       "    </tr>\n",
       "  </thead>\n",
       "  <tbody>\n",
       "    <tr>\n",
       "      <th>2</th>\n",
       "      <td>3</td>\n",
       "      <td>United Kingdom</td>\n",
       "      <td>NaN</td>\n",
       "      <td>20 or more years</td>\n",
       "      <td>NaN</td>\n",
       "      <td>9.0</td>\n",
       "      <td>8.0</td>\n",
       "      <td>113750.0</td>\n",
       "      <td>9:00 AM</td>\n",
       "      <td>Other</td>\n",
       "    </tr>\n",
       "    <tr>\n",
       "      <th>7</th>\n",
       "      <td>8</td>\n",
       "      <td>Poland</td>\n",
       "      <td>Full stack Web developer</td>\n",
       "      <td>7 to 8 years</td>\n",
       "      <td>1.0</td>\n",
       "      <td>7.0</td>\n",
       "      <td>7.0</td>\n",
       "      <td>NaN</td>\n",
       "      <td>Noon</td>\n",
       "      <td>Other</td>\n",
       "    </tr>\n",
       "    <tr>\n",
       "      <th>8</th>\n",
       "      <td>9</td>\n",
       "      <td>Colombia</td>\n",
       "      <td>NaN</td>\n",
       "      <td>7 to 8 years</td>\n",
       "      <td>2.0</td>\n",
       "      <td>6.0</td>\n",
       "      <td>6.0</td>\n",
       "      <td>NaN</td>\n",
       "      <td>9:00 AM</td>\n",
       "      <td>Other</td>\n",
       "    </tr>\n",
       "    <tr>\n",
       "      <th>13</th>\n",
       "      <td>14</td>\n",
       "      <td>Germany</td>\n",
       "      <td>Full stack Web developer</td>\n",
       "      <td>15 to 16 years</td>\n",
       "      <td>3.0</td>\n",
       "      <td>6.0</td>\n",
       "      <td>8.0</td>\n",
       "      <td>NaN</td>\n",
       "      <td>10:00 AM</td>\n",
       "      <td>Other</td>\n",
       "    </tr>\n",
       "    <tr>\n",
       "      <th>14</th>\n",
       "      <td>15</td>\n",
       "      <td>United Kingdom</td>\n",
       "      <td>NaN</td>\n",
       "      <td>20 or more years</td>\n",
       "      <td>NaN</td>\n",
       "      <td>8.0</td>\n",
       "      <td>8.0</td>\n",
       "      <td>100000.0</td>\n",
       "      <td>9:00 AM</td>\n",
       "      <td>Other</td>\n",
       "    </tr>\n",
       "  </tbody>\n",
       "</table>\n",
       "</div>"
      ],
      "text/plain": [
       "    Respondent         Country          WebDeveloperType     YearsCodedJob  \\\n",
       "2            3  United Kingdom                       NaN  20 or more years   \n",
       "7            8          Poland  Full stack Web developer      7 to 8 years   \n",
       "8            9        Colombia                       NaN      7 to 8 years   \n",
       "13          14         Germany  Full stack Web developer    15 to 16 years   \n",
       "14          15  United Kingdom                       NaN  20 or more years   \n",
       "\n",
       "    HoursPerWeek  JobSatisfaction  CareerSatisfaction    Salary WorkStart  \\\n",
       "2            NaN              9.0                 8.0  113750.0   9:00 AM   \n",
       "7            1.0              7.0                 7.0       NaN      Noon   \n",
       "8            2.0              6.0                 6.0       NaN   9:00 AM   \n",
       "13           3.0              6.0                 8.0       NaN  10:00 AM   \n",
       "14           NaN              8.0                 8.0  100000.0   9:00 AM   \n",
       "\n",
       "   Location  \n",
       "2     Other  \n",
       "7     Other  \n",
       "8     Other  \n",
       "13    Other  \n",
       "14    Other  "
      ]
     },
     "execution_count": 7,
     "metadata": {},
     "output_type": "execute_result"
    }
   ],
   "source": [
    "# Dividing into two regions\n",
    "Asia = ['China', 'India','Indonesia', 'Pakistan','Bangladesh','Japan', 'Philippines', 'Vietnam','Turkey', 'Thailand',\n",
    "        'South Korea', 'Malaysia','North Korea', 'Sri Lanka', 'United Arab Emirates', 'Nepal', 'Yemen','Jordan']\n",
    "\n",
    "North_America = ['United States', 'Canada']\n",
    "# Classifying and storing countries into Asia, North America and others respectively\n",
    "data['Location'] = data['Country'].apply(lambda x: 'Asia' if x in Asia else ('North_America' if x in North_America else 'Other'))\n",
    "data.head()"
   ]
  },
  {
   "cell_type": "markdown",
   "metadata": {},
   "source": [
    "Now we have countries only from two regions : Asia & North America"
   ]
  },
  {
   "cell_type": "markdown",
   "metadata": {},
   "source": [
    "Let's see comparison of Web Developers from each location according to their experience and see how they have reacted to every question in the survey."
   ]
  },
  {
   "cell_type": "markdown",
   "metadata": {},
   "source": [
    "### How are Job Satisfacton and Career Satisfaction are correlated ?"
   ]
  },
  {
   "cell_type": "markdown",
   "metadata": {},
   "source": [
    "Let's see how Career Satisfaction and Job Satisfaction are correlated."
   ]
  },
  {
   "cell_type": "code",
   "execution_count": 21,
   "metadata": {},
   "outputs": [],
   "source": [
    "# We are creating a new dataframe with Location , CareerSatisfaction and JobSatisfaction. Also the null values from the three features are dropped.\n",
    "CareerJobSat = data[['Location','CareerSatisfaction','JobSatisfaction']].dropna(axis=0, how='any')"
   ]
  },
  {
   "cell_type": "code",
   "execution_count": 22,
   "metadata": {},
   "outputs": [
    {
     "data": {
      "text/plain": [
       "0.6194173477073712"
      ]
     },
     "execution_count": 22,
     "metadata": {},
     "output_type": "execute_result"
    }
   ],
   "source": [
    "# This gives a correlation coefficient. A number close to one means strong positive correlation.\n",
    "CareerJobSat.JobSatisfaction.corr(df.CareerSatisfaction)"
   ]
  },
  {
   "cell_type": "markdown",
   "metadata": {},
   "source": [
    "We can observe a strong postive correlation between Career Satisfaction and Job Satisfaction"
   ]
  },
  {
   "cell_type": "markdown",
   "metadata": {},
   "source": [
    "Lets's plot a joint plot to see it visually."
   ]
  },
  {
   "cell_type": "code",
   "execution_count": 23,
   "metadata": {},
   "outputs": [
    {
     "data": {
      "text/plain": [
       "<seaborn.axisgrid.JointGrid at 0xffa8910>"
      ]
     },
     "execution_count": 23,
     "metadata": {},
     "output_type": "execute_result"
    },
    {
     "data": {
      "image/png": "[encoded data removed]",
      "text/plain": [
       "<Figure size 432x432 with 3 Axes>"
      ]
     },
     "metadata": {
      "needs_background": "light"
     },
     "output_type": "display_data"
    }
   ],
   "source": [
    "#We are plotting a joint plot between Job Satisfaction and Career Satisfaction. \n",
    "#The plot kind is hexagonal.\n",
    "sns.jointplot(x='JobSatisfaction', y='CareerSatisfaction', data=CareerJobSat, kind='hex')"
   ]
  },
  {
   "cell_type": "code",
   "execution_count": 24,
   "metadata": {},
   "outputs": [
    {
     "data": {
      "image/png": "[encoded data removed]",
      "text/plain": [
       "<Figure size 432x288 with 1 Axes>"
      ]
     },
     "metadata": {
      "needs_background": "light"
     },
     "output_type": "display_data"
    }
   ],
   "source": [
    "#A distplot plots a univariate distribution of observations.\n",
    "#We are using distplot to visually show the positive correlation between Job Satisfaction and Career Satisfaction.\n",
    "sns.distplot(CareerJobSat.JobSatisfaction,hist=False, label='JobSatisfaction')\n",
    "sns.distplot(CareerJobSat.CareerSatisfaction,hist=False, label='CareerSatisfaction', \\\n",
    "             axlabel='JobSatisfaction vs CareerSatisfaction')\n",
    "plt.show()\n"
   ]
  },
  {
   "cell_type": "markdown",
   "metadata": {},
   "source": [
    "When Job Satisfaction rises Career Satisfaction also rises. Hence visually proving that they are positively correlated."
   ]
  },
  {
   "cell_type": "markdown",
   "metadata": {},
   "source": [
    "### Which Location has the highest Job satisfaction and Career Satisfaction ?"
   ]
  },
  {
   "cell_type": "markdown",
   "metadata": {},
   "source": [
    "Let's find which location has higher job and career satisfaction."
   ]
  },
  {
   "cell_type": "markdown",
   "metadata": {},
   "source": [
    "Let's transform the CareerJobSat dataframe using melt."
   ]
  },
  {
   "cell_type": "code",
   "execution_count": 25,
   "metadata": {},
   "outputs": [],
   "source": [
    "#Here we are transformating the dataframe CareerJobSat with keeping the Location intact.\n",
    "CareerJobSatMelt = CareerJobSat.melt(id_vars=['Location'])"
   ]
  },
  {
   "cell_type": "code",
   "execution_count": 27,
   "metadata": {
    "scrolled": false
   },
   "outputs": [
    {
     "data": {
      "text/plain": [
       "<seaborn.axisgrid.FacetGrid at 0x10615eb0>"
      ]
     },
     "execution_count": 27,
     "metadata": {},
     "output_type": "execute_result"
    },
    {
     "data": {
      "image/png": "[encoded data removed]",
      "text/plain": [
       "<Figure size 1080x360 with 3 Axes>"
      ]
     },
     "metadata": {
      "needs_background": "light"
     },
     "output_type": "display_data"
    }
   ],
   "source": [
    "#Factorplot are used to plot categorical values.\n",
    "#Here we are loading the tranformed DataFrame CareerJobSat to give a factorplot with kind mentioned as bar plot.\n",
    "sns.factorplot(x='variable', y = 'value', data=CareerJobSatMelt, col='Location' ,kind='bar')"
   ]
  },
  {
   "cell_type": "markdown",
   "metadata": {},
   "source": [
    "We can conclude that North America has the highest Job Satisfaction and Career Satisfaction."
   ]
  },
  {
   "cell_type": "markdown",
   "metadata": {},
   "source": [
    "### At what time do Web developers want to start working at their job ?"
   ]
  },
  {
   "cell_type": "markdown",
   "metadata": {},
   "source": [
    "Let's find the most preffered time at which the Web Developers want to start their work."
   ]
  },
  {
   "cell_type": "code",
   "execution_count": 28,
   "metadata": {},
   "outputs": [
    {
     "data": {
      "text/html": [
       "<div>\n",
       "<style scoped>\n",
       "    .dataframe tbody tr th:only-of-type {\n",
       "        vertical-align: middle;\n",
       "    }\n",
       "\n",
       "    .dataframe tbody tr th {\n",
       "        vertical-align: top;\n",
       "    }\n",
       "\n",
       "    .dataframe thead th {\n",
       "        text-align: right;\n",
       "    }\n",
       "</style>\n",
       "<table border=\"1\" class=\"dataframe\">\n",
       "  <thead>\n",
       "    <tr style=\"text-align: right;\">\n",
       "      <th></th>\n",
       "      <th></th>\n",
       "      <th>Percent</th>\n",
       "    </tr>\n",
       "    <tr>\n",
       "      <th>Location</th>\n",
       "      <th>WorkStart</th>\n",
       "      <th></th>\n",
       "    </tr>\n",
       "  </thead>\n",
       "  <tbody>\n",
       "    <tr>\n",
       "      <th rowspan=\"5\" valign=\"top\">Asia</th>\n",
       "      <th>10:00 AM</th>\n",
       "      <td>28.719971</td>\n",
       "    </tr>\n",
       "    <tr>\n",
       "      <th>9:00 AM</th>\n",
       "      <td>22.230190</td>\n",
       "    </tr>\n",
       "    <tr>\n",
       "      <th>8:00 AM</th>\n",
       "      <td>13.122983</td>\n",
       "    </tr>\n",
       "    <tr>\n",
       "      <th>11:00 AM</th>\n",
       "      <td>9.537469</td>\n",
       "    </tr>\n",
       "    <tr>\n",
       "      <th>Noon</th>\n",
       "      <td>7.099319</td>\n",
       "    </tr>\n",
       "    <tr>\n",
       "      <th rowspan=\"5\" valign=\"top\">North_America</th>\n",
       "      <th>10:00 AM</th>\n",
       "      <td>26.190807</td>\n",
       "    </tr>\n",
       "    <tr>\n",
       "      <th>9:00 AM</th>\n",
       "      <td>26.149146</td>\n",
       "    </tr>\n",
       "    <tr>\n",
       "      <th>8:00 AM</th>\n",
       "      <td>19.302875</td>\n",
       "    </tr>\n",
       "    <tr>\n",
       "      <th>7:00 AM</th>\n",
       "      <td>12.553812</td>\n",
       "    </tr>\n",
       "    <tr>\n",
       "      <th>11:00 AM</th>\n",
       "      <td>4.777114</td>\n",
       "    </tr>\n",
       "    <tr>\n",
       "      <th rowspan=\"5\" valign=\"top\">Other</th>\n",
       "      <th>9:00 AM</th>\n",
       "      <td>26.651427</td>\n",
       "    </tr>\n",
       "    <tr>\n",
       "      <th>10:00 AM</th>\n",
       "      <td>23.782122</td>\n",
       "    </tr>\n",
       "    <tr>\n",
       "      <th>8:00 AM</th>\n",
       "      <td>22.654895</td>\n",
       "    </tr>\n",
       "    <tr>\n",
       "      <th>7:00 AM</th>\n",
       "      <td>9.467129</td>\n",
       "    </tr>\n",
       "    <tr>\n",
       "      <th>11:00 AM</th>\n",
       "      <td>6.101214</td>\n",
       "    </tr>\n",
       "  </tbody>\n",
       "</table>\n",
       "</div>"
      ],
      "text/plain": [
       "                           Percent\n",
       "Location      WorkStart           \n",
       "Asia          10:00 AM   28.719971\n",
       "              9:00 AM    22.230190\n",
       "              8:00 AM    13.122983\n",
       "              11:00 AM    9.537469\n",
       "              Noon        7.099319\n",
       "North_America 10:00 AM   26.190807\n",
       "              9:00 AM    26.149146\n",
       "              8:00 AM    19.302875\n",
       "              7:00 AM    12.553812\n",
       "              11:00 AM    4.777114\n",
       "Other         9:00 AM    26.651427\n",
       "              10:00 AM   23.782122\n",
       "              8:00 AM    22.654895\n",
       "              7:00 AM     9.467129\n",
       "              11:00 AM    6.101214"
      ]
     },
     "execution_count": 28,
     "metadata": {},
     "output_type": "execute_result"
    }
   ],
   "source": [
    "# New grouped DataFrame begin is created.\n",
    "begin = data[['Location','WorkStart', 'Respondent']].groupby(['Location','WorkStart']).count()\n",
    "\n",
    "# New column Percent is created in begin_per grouped DataFrame which holds the data of percentage of WorkStart option chosen.\n",
    "begin_per = begin.groupby(level=0).apply(lambda x: 100 * x / float(x.sum()))\n",
    "begin_per.columns = ['Percent']\n",
    "# Most preffered option appears at the top.\n",
    "begin_per = begin_per.reset_index().groupby('Location', group_keys=False).apply(lambda x: x.nlargest(5, 'Percent'))\n",
    "begin_per.set_index(['Location', 'WorkStart'])"
   ]
  },
  {
   "cell_type": "markdown",
   "metadata": {},
   "source": [
    "We can see that in both Asia and North America a majority of the people want to start their work at 10:00 AM."
   ]
  },
  {
   "cell_type": "markdown",
   "metadata": {},
   "source": [
    "### Who spends highest time searching for a job throught a week ?"
   ]
  },
  {
   "cell_type": "code",
   "execution_count": 29,
   "metadata": {},
   "outputs": [
    {
     "data": {
      "text/plain": [
       "Location\n",
       "Asia             5.404487\n",
       "North_America    2.254412\n",
       "Other            2.473005\n",
       "Name: HoursPerWeek, dtype: float64"
      ]
     },
     "execution_count": 29,
     "metadata": {},
     "output_type": "execute_result"
    }
   ],
   "source": [
    "Time = data[['Location', 'HoursPerWeek']].dropna(axis=0, how='any')\n",
    "Time.groupby(['Location'])['HoursPerWeek'].mean()"
   ]
  },
  {
   "cell_type": "code",
   "execution_count": 30,
   "metadata": {},
   "outputs": [
    {
     "data": {
      "image/png": "[encoded data removed]",
      "text/plain": [
       "<Figure size 432x288 with 1 Axes>"
      ]
     },
     "metadata": {
      "needs_background": "light"
     },
     "output_type": "display_data"
    }
   ],
   "source": [
    "sns.barplot(x = 'Location', y = 'HoursPerWeek', data = Time)\n",
    "plt.title('Average hours spent on job search');"
   ]
  },
  {
   "cell_type": "markdown",
   "metadata": {},
   "source": [
    "Web Developers in Asia have spent more time in searching for a job throughout the week."
   ]
  },
  {
   "cell_type": "markdown",
   "metadata": {},
   "source": [
    "### Who has coded long time with coding as part of their job ?"
   ]
  },
  {
   "cell_type": "markdown",
   "metadata": {},
   "source": [
    "Let's map the years of coding experience in their job to numerical values to handle the easily."
   ]
  },
  {
   "cell_type": "code",
   "execution_count": 31,
   "metadata": {},
   "outputs": [],
   "source": [
    "# We are creating a function to map the values in exp to a numerical value for ease of reading and plotting.\n",
    "def NumExp(column):\n",
    "    # exp is a dictionary containing the experience as key and it's numerical value as values.\n",
    "    exp = {\n",
    "    'Less than a year': 0,\n",
    "    '1 to 2 years': 1,\n",
    "    '2 to 3 years': 2,\n",
    "    '3 to 4 years': 3,\n",
    "    '4 to 5 years': 4,\n",
    "    '6 to 7 years': 6, \n",
    "    '7 to 8 years': 7,\n",
    "    '8 to 9 years': 8,\n",
    "    '9 to 10 years': 9,\n",
    "    '10 to 11 years': 10,\n",
    "    '11 to 12 years': 11,\n",
    "    '12 to 13 years': 12,\n",
    "    '13 to 14 years': 13,\n",
    "    '14 to 15 years': 14,\n",
    "    '15 to 16 years': 15,\n",
    "    '16 to 17 years': 16,\n",
    "    '17 to 18 years': 17,\n",
    "    '18 to 19 years': 18,\n",
    "    '19 to 20 years': 19,\n",
    "    '20 or more years': 20\n",
    "    }\n",
    "    # This maps the categorical values in YearsCodedJob to their respective keys mentioned in the above dictionary. \n",
    "    exp_code = data[['Location', column]].dropna(axis=0, how='any')\n",
    "    exp_code[column] = exp_code[column].map(exp)\n",
    "    \n",
    "    return exp_code"
   ]
  },
  {
   "cell_type": "code",
   "execution_count": 32,
   "metadata": {},
   "outputs": [],
   "source": [
    "# The function NumExp is used to map YearsCodedJob and the DataFrame is being stored in CodingExp.\n",
    "CodingExp = NumExp('YearsCodedJob')\n",
    "exp_plot = CodingExp.groupby(['Location'])['YearsCodedJob'].mean().reset_index()"
   ]
  },
  {
   "cell_type": "code",
   "execution_count": 33,
   "metadata": {},
   "outputs": [
    {
     "data": {
      "image/png": "[encoded data removed]",
      "text/plain": [
       "<Figure size 432x288 with 1 Axes>"
      ]
     },
     "metadata": {
      "needs_background": "light"
     },
     "output_type": "display_data"
    }
   ],
   "source": [
    "#The data from grouped DataFrame exp_plot is used to plot a barplot to derive the insights.\n",
    "sns.barplot(x = 'Location', y = 'YearsCodedJob', data = exp_plot)\n",
    "plt.title('Mean of Coding expeience in a job');"
   ]
  },
  {
   "cell_type": "markdown",
   "metadata": {},
   "source": [
    "North America has the highest Web Developers who have spent most of their job in coding."
   ]
  },
  {
   "cell_type": "markdown",
   "metadata": {},
   "source": [
    "# Conclusion :"
   ]
  },
  {
   "cell_type": "markdown",
   "metadata": {},
   "source": [
    "* Job Satisfaction and Career Satisfaction are positively correlated.\n",
    "* North America has Web Developers with highest Job Satisfaction and Career Satisfaction.\n",
    "* Web Developers wish to start their work at 10:00 AM in both Asia and North America.\n",
    "* Web Developers in Asia spend more time than those in North America in searching jobs in a week.\n",
    "* North America has Web Developers who had a job long time involving coding."
   ]
  }
 ],
 "metadata": {
  "kernelspec": {
   "display_name": "Python 3",
   "language": "python",
   "name": "python3"
  },
  "language_info": {
   "codemirror_mode": {
    "name": "ipython",
    "version": 3
   },
   "file_extension": ".py",
   "mimetype": "text/x-python",
   "name": "python",
   "nbconvert_exporter": "python",
   "pygments_lexer": "ipython3",
   "version": "3.7.4"
  }
 },
 "nbformat": 4,
 "nbformat_minor": 2
}
